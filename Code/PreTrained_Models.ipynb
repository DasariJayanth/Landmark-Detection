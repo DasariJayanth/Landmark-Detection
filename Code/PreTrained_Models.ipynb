{
  "nbformat": 4,
  "nbformat_minor": 0,
  "metadata": {
    "colab": {
      "provenance": []
    },
    "kernelspec": {
      "name": "python3",
      "display_name": "Python 3"
    },
    "language_info": {
      "name": "python"
    },
    "accelerator": "GPU",
    "gpuClass": "standard"
  },
  "cells": [
    {
      "cell_type": "code",
      "execution_count": 1,
      "metadata": {
        "id": "5irJ3ysYQ2iP"
      },
      "outputs": [],
      "source": [
        "from google.colab import files\n",
        "from tensorflow.keras import applications\n",
        "\n",
        "import matplotlib.pyplot as plt\n",
        "import seaborn as sns\n",
        "import numpy as np\n",
        "import pandas as pd\n",
        "import tensorflow as tf\n",
        "import time\n",
        "import os\n",
        "\n",
        "from keras.preprocessing.image import ImageDataGenerator\n",
        "from keras.applications.mobilenet import preprocess_input\n",
        "from keras.applications.mobilenet import MobileNet\n",
        "from keras import models\n",
        "from keras import layers\n",
        "from keras.callbacks import EarlyStopping\n",
        "\n",
        "import matplotlib.pyplot as plt"
      ]
    },
    {
      "cell_type": "code",
      "source": [
        "# mount Google Drive\n",
        "from google.colab import drive\n",
        "drive.mount('/content/drive')"
      ],
      "metadata": {
        "colab": {
          "base_uri": "https://localhost:8080/"
        },
        "id": "0ISvkRd6Q4en",
        "outputId": "c8a3f52a-9a4e-4686-ee01-a4c12cef859d"
      },
      "execution_count": 2,
      "outputs": [
        {
          "output_type": "stream",
          "name": "stdout",
          "text": [
            "Mounted at /content/drive\n"
          ]
        }
      ]
    },
    {
      "cell_type": "code",
      "source": [
        "cd '/content/drive/MyDrive/CVProject/'"
      ],
      "metadata": {
        "colab": {
          "base_uri": "https://localhost:8080/"
        },
        "id": "_1bzjZg0Q6pZ",
        "outputId": "4c059ee6-22f8-4e25-c587-06bbd01a67ea"
      },
      "execution_count": 3,
      "outputs": [
        {
          "output_type": "stream",
          "name": "stdout",
          "text": [
            "/content/drive/MyDrive/CVProject\n"
          ]
        }
      ]
    },
    {
      "cell_type": "code",
      "source": [
        "!ls"
      ],
      "metadata": {
        "colab": {
          "base_uri": "https://localhost:8080/"
        },
        "id": "d5KQEnWeQ9Lb",
        "outputId": "7318713e-c534-4138-ab0a-d305a8dd25de"
      },
      "execution_count": 4,
      "outputs": [
        {
          "output_type": "stream",
          "name": "stdout",
          "text": [
            "CVProject.ipynb  CVProject_MobileNet.h5  Dataset  Landmark_Detection_MER.pdf\n"
          ]
        }
      ]
    },
    {
      "cell_type": "code",
      "source": [],
      "metadata": {
        "id": "QPlCm2Z7Q_vq"
      },
      "execution_count": 4,
      "outputs": []
    },
    {
      "cell_type": "markdown",
      "source": [
        "## **Creating Models**"
      ],
      "metadata": {
        "id": "Kho6h5h1Rkb0"
      }
    },
    {
      "cell_type": "code",
      "source": [
        "def get_data(preprocessing_function):\n",
        "    image_gen = ImageDataGenerator(rotation_range=20,\n",
        "                                   width_shift_range=0.1,\n",
        "                                   height_shift_range=0.1,\n",
        "                                   brightness_range=(0.2, 1),\n",
        "                                   shear_range=45,\n",
        "                                   zoom_range=(0.5, 1.5),\n",
        "                                   fill_mode='reflect',\n",
        "                                   horizontal_flip=True,\n",
        "                                   preprocessing_function=preprocessing_function,\n",
        "                                   validation_split=0.3)\n",
        "\n",
        "    train_data = '/content/drive/MyDrive/CVProject/Dataset'\n",
        "\n",
        "    train_gen = image_gen.flow_from_directory(train_data,\n",
        "                                              target_size=(224, 224),\n",
        "                                              class_mode='categorical',\n",
        "                                              color_mode='rgb',\n",
        "                                              shuffle=True,\n",
        "                                              # batch_size=32,\n",
        "                                              seed=0,\n",
        "                                              subset='training')\n",
        "\n",
        "    val_gen = image_gen.flow_from_directory(train_data,\n",
        "                                            target_size=(224, 224),\n",
        "                                            class_mode='categorical',\n",
        "                                            color_mode='rgb',\n",
        "                                            shuffle=True,\n",
        "                                            # batch_size=32,\n",
        "                                            seed=0,\n",
        "                                            subset='validation')\n",
        "\n",
        "    return train_gen, val_gen"
      ],
      "metadata": {
        "id": "L3OxICOcRb3q"
      },
      "execution_count": 16,
      "outputs": []
    },
    {
      "cell_type": "code",
      "source": [
        "def get_model(model):\n",
        "    kwargs =    {'include_top':False,\n",
        "                 'weights':'imagenet',\n",
        "                 'input_shape':(224, 224, 3),\n",
        "                 'pooling':'avg'}\n",
        "    \n",
        "    base_model = model(**kwargs)\n",
        "    \n",
        "    end_model = models.Sequential()\n",
        "    \n",
        "    end_model.add(layers.Dense(128))\n",
        "    end_model.add(layers.ReLU())\n",
        "    end_model.add(layers.Dense(128))\n",
        "    end_model.add(layers.ReLU())\n",
        "    end_model.add(layers.Dense(18, activation='softmax'))\n",
        "\n",
        "    model = models.Model(inputs=base_model.input, outputs=end_model(base_model.output))\n",
        "\n",
        "    for layer in base_model.layers:\n",
        "        layer.trainable = False\n",
        "\n",
        "    model.compile(\n",
        "        optimizer='adam',\n",
        "        loss='categorical_crossentropy',\n",
        "        metrics=['accuracy']\n",
        "    )\n",
        "    \n",
        "    return model"
      ],
      "metadata": {
        "id": "bcHJDlnnROUr"
      },
      "execution_count": 17,
      "outputs": []
    },
    {
      "cell_type": "markdown",
      "source": [
        "## **Training Models**"
      ],
      "metadata": {
        "id": "N8LQPZqaR29U"
      }
    },
    {
      "cell_type": "code",
      "source": [
        "models_dict = {\n",
        "    'Xception': {'model': applications.xception.Xception,\n",
        "                 'preprocess_func': applications.xception.preprocess_input},\n",
        "    'VGG19': {'model': applications.vgg19.VGG19,\n",
        "              'preprocess_func': applications.vgg19.preprocess_input},\n",
        "    'ResNet50V2': {'model': applications.resnet_v2.ResNet50V2,\n",
        "                   'preprocess_func': applications.resnet_v2.preprocess_input},\n",
        "    'ResNet101V2': {'model': applications.resnet_v2.ResNet101V2,\n",
        "                    'preprocess_func': applications.resnet_v2.preprocess_input},\n",
        "    'InceptionV3': {'model': applications.inception_v3.InceptionV3,\n",
        "                    'preprocess_func': applications.inception_v3.preprocess_input},\n",
        "    'MobileNet': {'model': applications.mobilenet.MobileNet,\n",
        "                  'preprocess_func': applications.mobilenet.preprocess_input},\n",
        "    'MobileNetV2': {'model': applications.mobilenet_v2.MobileNetV2,\n",
        "                    'preprocess_func': applications.mobilenet_v2.preprocess_input},\n",
        "    'DenseNet201': {'model': applications.densenet.DenseNet201,\n",
        "                    'preprocess_func': applications.densenet.preprocess_input},\n",
        "    'EfficientNetB7': {'model': applications.efficientnet.EfficientNetB7,\n",
        "                       'preprocess_func': applications.efficientnet.preprocess_input}\n",
        "}"
      ],
      "metadata": {
        "id": "tdbx4xU0R4m1"
      },
      "execution_count": 18,
      "outputs": []
    },
    {
      "cell_type": "code",
      "source": [
        "for name, model in models_dict.items():\n",
        "    print(name)\n",
        "\n",
        "    train_gen, val_gen = get_data(model['preprocess_func'])\n",
        "    m = get_model(model['model'])\n",
        "\n",
        "    start = time.perf_counter()\n",
        "\n",
        "    history = m.fit(train_gen,\n",
        "                    epochs=5,\n",
        "                    validation_data = val_gen)\n",
        "\n",
        "    duration = time.perf_counter() - start\n",
        "\n",
        "    models_dict[name]['time'] = duration\n",
        "    models_dict[name]['val_acc'] = history.history['val_accuracy'][-1]\n",
        "    \n",
        "    print()"
      ],
      "metadata": {
        "colab": {
          "base_uri": "https://localhost:8080/"
        },
        "id": "gHR9NYteR9MI",
        "outputId": "a5494caa-ee5f-42f3-f78d-0a6fb469f18c"
      },
      "execution_count": 19,
      "outputs": [
        {
          "output_type": "stream",
          "name": "stdout",
          "text": [
            "Xception\n",
            "Found 269 images belonging to 18 classes.\n",
            "Found 106 images belonging to 18 classes.\n",
            "Epoch 1/5\n",
            "9/9 [==============================] - 70s 8s/step - loss: 2.7629 - accuracy: 0.1822 - val_loss: 2.5697 - val_accuracy: 0.2736\n",
            "Epoch 2/5\n",
            "9/9 [==============================] - 61s 7s/step - loss: 2.2998 - accuracy: 0.4126 - val_loss: 2.1217 - val_accuracy: 0.4151\n",
            "Epoch 3/5\n",
            "9/9 [==============================] - 62s 7s/step - loss: 1.7966 - accuracy: 0.5242 - val_loss: 1.8197 - val_accuracy: 0.4906\n",
            "Epoch 4/5\n",
            "9/9 [==============================] - 61s 7s/step - loss: 1.3796 - accuracy: 0.7175 - val_loss: 1.5028 - val_accuracy: 0.6226\n",
            "Epoch 5/5\n",
            "9/9 [==============================] - 61s 7s/step - loss: 1.1100 - accuracy: 0.7249 - val_loss: 1.3909 - val_accuracy: 0.5943\n",
            "\n",
            "VGG19\n",
            "Found 269 images belonging to 18 classes.\n",
            "Found 106 images belonging to 18 classes.\n",
            "Epoch 1/5\n",
            "9/9 [==============================] - 68s 8s/step - loss: 3.1289 - accuracy: 0.1227 - val_loss: 2.9155 - val_accuracy: 0.1132\n",
            "Epoch 2/5\n",
            "9/9 [==============================] - 61s 7s/step - loss: 2.3630 - accuracy: 0.3086 - val_loss: 2.3339 - val_accuracy: 0.3302\n",
            "Epoch 3/5\n",
            "9/9 [==============================] - 61s 7s/step - loss: 1.8442 - accuracy: 0.4758 - val_loss: 2.0979 - val_accuracy: 0.4151\n",
            "Epoch 4/5\n",
            "9/9 [==============================] - 61s 7s/step - loss: 1.5087 - accuracy: 0.5762 - val_loss: 1.8554 - val_accuracy: 0.4717\n",
            "Epoch 5/5\n",
            "9/9 [==============================] - 63s 7s/step - loss: 1.1837 - accuracy: 0.6803 - val_loss: 1.6845 - val_accuracy: 0.4623\n",
            "\n",
            "ResNet50V2\n",
            "Found 269 images belonging to 18 classes.\n",
            "Found 106 images belonging to 18 classes.\n",
            "Epoch 1/5\n",
            "9/9 [==============================] - 68s 7s/step - loss: 2.7270 - accuracy: 0.2082 - val_loss: 2.3412 - val_accuracy: 0.3208\n",
            "Epoch 2/5\n",
            "9/9 [==============================] - 61s 7s/step - loss: 1.8855 - accuracy: 0.4907 - val_loss: 1.8115 - val_accuracy: 0.4434\n",
            "Epoch 3/5\n",
            "9/9 [==============================] - 62s 7s/step - loss: 1.3474 - accuracy: 0.6394 - val_loss: 1.6162 - val_accuracy: 0.5472\n",
            "Epoch 4/5\n",
            "9/9 [==============================] - 68s 8s/step - loss: 1.0040 - accuracy: 0.7212 - val_loss: 1.4113 - val_accuracy: 0.5755\n",
            "Epoch 5/5\n",
            "9/9 [==============================] - 63s 8s/step - loss: 0.7276 - accuracy: 0.7955 - val_loss: 1.1921 - val_accuracy: 0.6321\n",
            "\n",
            "ResNet101V2\n",
            "Found 269 images belonging to 18 classes.\n",
            "Found 106 images belonging to 18 classes.\n",
            "Epoch 1/5\n",
            "9/9 [==============================] - 75s 8s/step - loss: 2.7160 - accuracy: 0.1859 - val_loss: 2.4256 - val_accuracy: 0.3019\n",
            "Epoch 2/5\n",
            "9/9 [==============================] - 62s 7s/step - loss: 2.0547 - accuracy: 0.4870 - val_loss: 1.9413 - val_accuracy: 0.5189\n",
            "Epoch 3/5\n",
            "9/9 [==============================] - 62s 7s/step - loss: 1.3113 - accuracy: 0.6617 - val_loss: 1.7814 - val_accuracy: 0.5000\n",
            "Epoch 4/5\n",
            "9/9 [==============================] - 61s 7s/step - loss: 0.9665 - accuracy: 0.7361 - val_loss: 1.3886 - val_accuracy: 0.5943\n",
            "Epoch 5/5\n",
            "9/9 [==============================] - 61s 7s/step - loss: 0.7285 - accuracy: 0.8178 - val_loss: 1.1514 - val_accuracy: 0.7075\n",
            "\n",
            "InceptionV3\n",
            "Found 269 images belonging to 18 classes.\n",
            "Found 106 images belonging to 18 classes.\n",
            "Epoch 1/5\n",
            "9/9 [==============================] - 69s 8s/step - loss: 2.8441 - accuracy: 0.1227 - val_loss: 2.5868 - val_accuracy: 0.2358\n",
            "Epoch 2/5\n",
            "9/9 [==============================] - 62s 7s/step - loss: 2.2872 - accuracy: 0.4015 - val_loss: 2.2344 - val_accuracy: 0.3679\n",
            "Epoch 3/5\n",
            "9/9 [==============================] - 60s 7s/step - loss: 1.8901 - accuracy: 0.4944 - val_loss: 1.9829 - val_accuracy: 0.3962\n",
            "Epoch 4/5\n",
            "9/9 [==============================] - 60s 7s/step - loss: 1.6023 - accuracy: 0.5576 - val_loss: 1.7749 - val_accuracy: 0.5283\n",
            "Epoch 5/5\n",
            "9/9 [==============================] - 60s 7s/step - loss: 1.2567 - accuracy: 0.6654 - val_loss: 1.6151 - val_accuracy: 0.5283\n",
            "\n",
            "MobileNet\n",
            "Found 269 images belonging to 18 classes.\n",
            "Found 106 images belonging to 18 classes.\n",
            "Epoch 1/5\n",
            "9/9 [==============================] - 67s 8s/step - loss: 2.6929 - accuracy: 0.1896 - val_loss: 2.3889 - val_accuracy: 0.2358\n",
            "Epoch 2/5\n",
            "9/9 [==============================] - 60s 7s/step - loss: 1.9447 - accuracy: 0.4907 - val_loss: 1.9002 - val_accuracy: 0.4623\n",
            "Epoch 3/5\n",
            "9/9 [==============================] - 60s 7s/step - loss: 1.2643 - accuracy: 0.7249 - val_loss: 1.4759 - val_accuracy: 0.6132\n",
            "Epoch 4/5\n",
            "9/9 [==============================] - 61s 7s/step - loss: 0.8333 - accuracy: 0.7881 - val_loss: 1.3155 - val_accuracy: 0.5943\n",
            "Epoch 5/5\n",
            "9/9 [==============================] - 60s 7s/step - loss: 0.6361 - accuracy: 0.8290 - val_loss: 1.1621 - val_accuracy: 0.6226\n",
            "\n",
            "MobileNetV2\n",
            "Found 269 images belonging to 18 classes.\n",
            "Found 106 images belonging to 18 classes.\n",
            "Epoch 1/5\n",
            "9/9 [==============================] - 68s 7s/step - loss: 2.8427 - accuracy: 0.1450 - val_loss: 2.5760 - val_accuracy: 0.2075\n",
            "Epoch 2/5\n",
            "9/9 [==============================] - 60s 7s/step - loss: 2.2384 - accuracy: 0.3792 - val_loss: 2.0963 - val_accuracy: 0.3208\n",
            "Epoch 3/5\n",
            "9/9 [==============================] - 61s 7s/step - loss: 1.6703 - accuracy: 0.5985 - val_loss: 1.8823 - val_accuracy: 0.4434\n",
            "Epoch 4/5\n",
            "9/9 [==============================] - 60s 7s/step - loss: 1.2590 - accuracy: 0.6766 - val_loss: 1.6171 - val_accuracy: 0.5472\n",
            "Epoch 5/5\n",
            "9/9 [==============================] - 60s 7s/step - loss: 0.9757 - accuracy: 0.7658 - val_loss: 1.3846 - val_accuracy: 0.5566\n",
            "\n",
            "DenseNet201\n",
            "Found 269 images belonging to 18 classes.\n",
            "Found 106 images belonging to 18 classes.\n",
            "Epoch 1/5\n",
            "9/9 [==============================] - 80s 8s/step - loss: 2.7527 - accuracy: 0.1710 - val_loss: 2.4981 - val_accuracy: 0.2642\n",
            "Epoch 2/5\n",
            "9/9 [==============================] - 61s 7s/step - loss: 2.2262 - accuracy: 0.4201 - val_loss: 2.0357 - val_accuracy: 0.4434\n",
            "Epoch 3/5\n",
            "9/9 [==============================] - 61s 7s/step - loss: 1.6625 - accuracy: 0.5799 - val_loss: 1.6925 - val_accuracy: 0.5849\n",
            "Epoch 4/5\n",
            "9/9 [==============================] - 62s 7s/step - loss: 1.2084 - accuracy: 0.7621 - val_loss: 1.3735 - val_accuracy: 0.6509\n",
            "Epoch 5/5\n",
            "9/9 [==============================] - 61s 7s/step - loss: 0.8695 - accuracy: 0.8290 - val_loss: 1.2790 - val_accuracy: 0.6698\n",
            "\n",
            "EfficientNetB7\n",
            "Found 269 images belonging to 18 classes.\n",
            "Found 106 images belonging to 18 classes.\n",
            "Epoch 1/5\n",
            "9/9 [==============================] - 89s 8s/step - loss: 2.6336 - accuracy: 0.2491 - val_loss: 2.2836 - val_accuracy: 0.4434\n",
            "Epoch 2/5\n",
            "9/9 [==============================] - 64s 8s/step - loss: 1.8738 - accuracy: 0.5911 - val_loss: 1.6914 - val_accuracy: 0.5660\n",
            "Epoch 3/5\n",
            "9/9 [==============================] - 63s 7s/step - loss: 1.2863 - accuracy: 0.7175 - val_loss: 1.3201 - val_accuracy: 0.5943\n",
            "Epoch 4/5\n",
            "9/9 [==============================] - 63s 8s/step - loss: 0.8482 - accuracy: 0.8067 - val_loss: 1.0345 - val_accuracy: 0.6792\n",
            "Epoch 5/5\n",
            "9/9 [==============================] - 63s 7s/step - loss: 0.5950 - accuracy: 0.8587 - val_loss: 0.8489 - val_accuracy: 0.7830\n",
            "\n"
          ]
        }
      ]
    },
    {
      "cell_type": "markdown",
      "source": [
        "## **Evaluating and Visualizing results**"
      ],
      "metadata": {
        "id": "2CSmtaUFSQsX"
      }
    },
    {
      "cell_type": "code",
      "source": [
        "model_results = []\n",
        "\n",
        "for name, _ in models_dict.items():\n",
        "    model_results.append([name,\n",
        "                          models_dict[name]['val_acc'],\n",
        "                          models_dict[name]['time']])\n",
        "    \n",
        "results = pd.DataFrame(model_results,\n",
        "                       columns = ['Model', 'Validation Accuracy', 'Training Time (sec.)'])\n",
        "results = results.sort_values(by='Validation Accuracy', ascending=False).reset_index(drop=True)\n",
        "\n",
        "results"
      ],
      "metadata": {
        "colab": {
          "base_uri": "https://localhost:8080/",
          "height": 332
        },
        "id": "BxPR63ssSSCn",
        "outputId": "917d63a3-db01-4af9-88f4-495017b703d5"
      },
      "execution_count": 20,
      "outputs": [
        {
          "output_type": "execute_result",
          "data": {
            "text/plain": [
              "            Model  Validation Accuracy  Training Time (sec.)\n",
              "0  EfficientNetB7             0.783019            348.738794\n",
              "1     ResNet101V2             0.707547            367.336831\n",
              "2     DenseNet201             0.669811            329.872682\n",
              "3      ResNet50V2             0.632075            327.746289\n",
              "4       MobileNet             0.622642            314.625982\n",
              "5        Xception             0.594340            320.818169\n",
              "6     MobileNetV2             0.556604            314.526212\n",
              "7     InceptionV3             0.528302            334.037858\n",
              "8           VGG19             0.462264            320.328263"
            ],
            "text/html": [
              "\n",
              "  <div id=\"df-2eda6e30-e2c6-4beb-b177-adfca1599d02\">\n",
              "    <div class=\"colab-df-container\">\n",
              "      <div>\n",
              "<style scoped>\n",
              "    .dataframe tbody tr th:only-of-type {\n",
              "        vertical-align: middle;\n",
              "    }\n",
              "\n",
              "    .dataframe tbody tr th {\n",
              "        vertical-align: top;\n",
              "    }\n",
              "\n",
              "    .dataframe thead th {\n",
              "        text-align: right;\n",
              "    }\n",
              "</style>\n",
              "<table border=\"1\" class=\"dataframe\">\n",
              "  <thead>\n",
              "    <tr style=\"text-align: right;\">\n",
              "      <th></th>\n",
              "      <th>Model</th>\n",
              "      <th>Validation Accuracy</th>\n",
              "      <th>Training Time (sec.)</th>\n",
              "    </tr>\n",
              "  </thead>\n",
              "  <tbody>\n",
              "    <tr>\n",
              "      <th>0</th>\n",
              "      <td>EfficientNetB7</td>\n",
              "      <td>0.783019</td>\n",
              "      <td>348.738794</td>\n",
              "    </tr>\n",
              "    <tr>\n",
              "      <th>1</th>\n",
              "      <td>ResNet101V2</td>\n",
              "      <td>0.707547</td>\n",
              "      <td>367.336831</td>\n",
              "    </tr>\n",
              "    <tr>\n",
              "      <th>2</th>\n",
              "      <td>DenseNet201</td>\n",
              "      <td>0.669811</td>\n",
              "      <td>329.872682</td>\n",
              "    </tr>\n",
              "    <tr>\n",
              "      <th>3</th>\n",
              "      <td>ResNet50V2</td>\n",
              "      <td>0.632075</td>\n",
              "      <td>327.746289</td>\n",
              "    </tr>\n",
              "    <tr>\n",
              "      <th>4</th>\n",
              "      <td>MobileNet</td>\n",
              "      <td>0.622642</td>\n",
              "      <td>314.625982</td>\n",
              "    </tr>\n",
              "    <tr>\n",
              "      <th>5</th>\n",
              "      <td>Xception</td>\n",
              "      <td>0.594340</td>\n",
              "      <td>320.818169</td>\n",
              "    </tr>\n",
              "    <tr>\n",
              "      <th>6</th>\n",
              "      <td>MobileNetV2</td>\n",
              "      <td>0.556604</td>\n",
              "      <td>314.526212</td>\n",
              "    </tr>\n",
              "    <tr>\n",
              "      <th>7</th>\n",
              "      <td>InceptionV3</td>\n",
              "      <td>0.528302</td>\n",
              "      <td>334.037858</td>\n",
              "    </tr>\n",
              "    <tr>\n",
              "      <th>8</th>\n",
              "      <td>VGG19</td>\n",
              "      <td>0.462264</td>\n",
              "      <td>320.328263</td>\n",
              "    </tr>\n",
              "  </tbody>\n",
              "</table>\n",
              "</div>\n",
              "      <button class=\"colab-df-convert\" onclick=\"convertToInteractive('df-2eda6e30-e2c6-4beb-b177-adfca1599d02')\"\n",
              "              title=\"Convert this dataframe to an interactive table.\"\n",
              "              style=\"display:none;\">\n",
              "        \n",
              "  <svg xmlns=\"http://www.w3.org/2000/svg\" height=\"24px\"viewBox=\"0 0 24 24\"\n",
              "       width=\"24px\">\n",
              "    <path d=\"M0 0h24v24H0V0z\" fill=\"none\"/>\n",
              "    <path d=\"M18.56 5.44l.94 2.06.94-2.06 2.06-.94-2.06-.94-.94-2.06-.94 2.06-2.06.94zm-11 1L8.5 8.5l.94-2.06 2.06-.94-2.06-.94L8.5 2.5l-.94 2.06-2.06.94zm10 10l.94 2.06.94-2.06 2.06-.94-2.06-.94-.94-2.06-.94 2.06-2.06.94z\"/><path d=\"M17.41 7.96l-1.37-1.37c-.4-.4-.92-.59-1.43-.59-.52 0-1.04.2-1.43.59L10.3 9.45l-7.72 7.72c-.78.78-.78 2.05 0 2.83L4 21.41c.39.39.9.59 1.41.59.51 0 1.02-.2 1.41-.59l7.78-7.78 2.81-2.81c.8-.78.8-2.07 0-2.86zM5.41 20L4 18.59l7.72-7.72 1.47 1.35L5.41 20z\"/>\n",
              "  </svg>\n",
              "      </button>\n",
              "      \n",
              "  <style>\n",
              "    .colab-df-container {\n",
              "      display:flex;\n",
              "      flex-wrap:wrap;\n",
              "      gap: 12px;\n",
              "    }\n",
              "\n",
              "    .colab-df-convert {\n",
              "      background-color: #E8F0FE;\n",
              "      border: none;\n",
              "      border-radius: 50%;\n",
              "      cursor: pointer;\n",
              "      display: none;\n",
              "      fill: #1967D2;\n",
              "      height: 32px;\n",
              "      padding: 0 0 0 0;\n",
              "      width: 32px;\n",
              "    }\n",
              "\n",
              "    .colab-df-convert:hover {\n",
              "      background-color: #E2EBFA;\n",
              "      box-shadow: 0px 1px 2px rgba(60, 64, 67, 0.3), 0px 1px 3px 1px rgba(60, 64, 67, 0.15);\n",
              "      fill: #174EA6;\n",
              "    }\n",
              "\n",
              "    [theme=dark] .colab-df-convert {\n",
              "      background-color: #3B4455;\n",
              "      fill: #D2E3FC;\n",
              "    }\n",
              "\n",
              "    [theme=dark] .colab-df-convert:hover {\n",
              "      background-color: #434B5C;\n",
              "      box-shadow: 0px 1px 3px 1px rgba(0, 0, 0, 0.15);\n",
              "      filter: drop-shadow(0px 1px 2px rgba(0, 0, 0, 0.3));\n",
              "      fill: #FFFFFF;\n",
              "    }\n",
              "  </style>\n",
              "\n",
              "      <script>\n",
              "        const buttonEl =\n",
              "          document.querySelector('#df-2eda6e30-e2c6-4beb-b177-adfca1599d02 button.colab-df-convert');\n",
              "        buttonEl.style.display =\n",
              "          google.colab.kernel.accessAllowed ? 'block' : 'none';\n",
              "\n",
              "        async function convertToInteractive(key) {\n",
              "          const element = document.querySelector('#df-2eda6e30-e2c6-4beb-b177-adfca1599d02');\n",
              "          const dataTable =\n",
              "            await google.colab.kernel.invokeFunction('convertToInteractive',\n",
              "                                                     [key], {});\n",
              "          if (!dataTable) return;\n",
              "\n",
              "          const docLinkHtml = 'Like what you see? Visit the ' +\n",
              "            '<a target=\"_blank\" href=https://colab.research.google.com/notebooks/data_table.ipynb>data table notebook</a>'\n",
              "            + ' to learn more about interactive tables.';\n",
              "          element.innerHTML = '';\n",
              "          dataTable['output_type'] = 'display_data';\n",
              "          await google.colab.output.renderOutput(dataTable, element);\n",
              "          const docLink = document.createElement('div');\n",
              "          docLink.innerHTML = docLinkHtml;\n",
              "          element.appendChild(docLink);\n",
              "        }\n",
              "      </script>\n",
              "    </div>\n",
              "  </div>\n",
              "  "
            ]
          },
          "metadata": {},
          "execution_count": 20
        }
      ]
    },
    {
      "cell_type": "code",
      "source": [],
      "metadata": {
        "id": "tkXUJ2pLtlh_"
      },
      "execution_count": 31,
      "outputs": []
    }
  ]
}